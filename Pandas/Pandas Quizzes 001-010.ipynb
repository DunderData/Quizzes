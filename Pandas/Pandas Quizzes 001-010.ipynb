{
 "cells": [
  {
   "cell_type": "markdown",
   "metadata": {},
   "source": [
    "# Pandas Quizzes 1-10\n",
    "\n",
    "Challenge your Python pandas skills by taking the quizzes below. The quizzes will be tagged with **#PandasQuiz** on social media to help identify them.\n",
    "\n",
    "### Become an Expert\n",
    "\n",
    "If you are looking for a comprehensive path to help you become an expert at the python data science ecosystem, you might want to check out the following books I wrote.\n",
    "\n",
    "* [Exercise Python][3]\n",
    "* [Master Data Analysis with Python][4]\n",
    "* [Master Machine Learning with Python][5]\n",
    "\n",
    "### Take a live in-person class with me\n",
    "\n",
    "Learn directly with me by taking an interactive and fun [in-person bootcamp in Toronto, Houston, New York City, Boston, or Chicago in 2020][6].\n",
    "\n",
    "### Get started for free\n",
    "\n",
    "Sample my material by taking my [free Intro to Pandas class][7].\n",
    "\n",
    "[1]: twitter.com/tedpetrou\n",
    "[2]: linkedin.com/in/tedpetrou\n",
    "[3]: https://www.dunderdata.com/exercise-python\n",
    "[4]: https://www.dunderdata.com/master-data-analysis-with-python\n",
    "[5]: https://www.dunderdata.com/master-machine-learning-with-python\n",
    "[6]: https://www.dunderdata.com/all-in-person-courses\n",
    "[7]: https://www.dunderdata.com"
   ]
  },
  {
   "cell_type": "markdown",
   "metadata": {},
   "source": [
    "## Quiz #1 - February 6, 2020 - difficulty (3/4)\n",
    "\n",
    "Take a look at the following DataFrame. What is the result of `sum(df)`?\n",
    "\n",
    "a) 1  \n",
    "b) 6  \n",
    "c) 30  \n",
    "d) 36  \n"
   ]
  },
  {
   "cell_type": "code",
   "execution_count": 1,
   "metadata": {},
   "outputs": [
    {
     "data": {
      "text/html": [
       "<div>\n",
       "<style scoped>\n",
       "    .dataframe tbody tr th:only-of-type {\n",
       "        vertical-align: middle;\n",
       "    }\n",
       "\n",
       "    .dataframe tbody tr th {\n",
       "        vertical-align: top;\n",
       "    }\n",
       "\n",
       "    .dataframe thead th {\n",
       "        text-align: right;\n",
       "    }\n",
       "</style>\n",
       "<table border=\"1\" class=\"dataframe\">\n",
       "  <thead>\n",
       "    <tr style=\"text-align: right;\">\n",
       "      <th></th>\n",
       "      <th>0</th>\n",
       "      <th>1</th>\n",
       "    </tr>\n",
       "  </thead>\n",
       "  <tbody>\n",
       "    <tr>\n",
       "      <th>0</th>\n",
       "      <td>1</td>\n",
       "      <td>5</td>\n",
       "    </tr>\n",
       "    <tr>\n",
       "      <th>1</th>\n",
       "      <td>2</td>\n",
       "      <td>10</td>\n",
       "    </tr>\n",
       "    <tr>\n",
       "      <th>2</th>\n",
       "      <td>3</td>\n",
       "      <td>15</td>\n",
       "    </tr>\n",
       "  </tbody>\n",
       "</table>\n",
       "</div>"
      ],
      "text/plain": [
       "   0   1\n",
       "0  1   5\n",
       "1  2  10\n",
       "2  3  15"
      ]
     },
     "execution_count": 1,
     "metadata": {},
     "output_type": "execute_result"
    }
   ],
   "source": [
    "import pandas as pd\n",
    "df = pd.DataFrame({0: [1, 2, 3], \n",
    "                   1: [5, 10, 15]})\n",
    "df"
   ]
  },
  {
   "cell_type": "code",
   "execution_count": null,
   "metadata": {},
   "outputs": [],
   "source": [
    "sum(df)"
   ]
  },
  {
   "cell_type": "markdown",
   "metadata": {},
   "source": [
    "## Quiz #2 - February 11, 2020 - difficulty (2/4)\n",
    "\n",
    "What is the data type of column `col`?\n",
    "\n",
    "![](images/quiz2.png) \n"
   ]
  },
  {
   "cell_type": "code",
   "execution_count": null,
   "metadata": {},
   "outputs": [],
   "source": []
  }
 ],
 "metadata": {
  "kernelspec": {
   "display_name": "Python 3",
   "language": "python",
   "name": "python3"
  },
  "language_info": {
   "codemirror_mode": {
    "name": "ipython",
    "version": 3
   },
   "file_extension": ".py",
   "mimetype": "text/x-python",
   "name": "python",
   "nbconvert_exporter": "python",
   "pygments_lexer": "ipython3",
   "version": "3.7.6"
  }
 },
 "nbformat": 4,
 "nbformat_minor": 4
}
