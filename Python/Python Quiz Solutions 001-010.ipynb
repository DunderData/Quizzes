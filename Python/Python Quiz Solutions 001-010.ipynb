{
 "cells": [
  {
   "cell_type": "markdown",
   "metadata": {},
   "source": [
    "# Python Quiz Solutions 1-10\n",
    "\n",
    "This notebook contains the solutions to the Python quizzes. They will be posted 24 hours after the quiz is announced. The quizzes will be tagged with **#PythonQuiz** on social media to help identify them.\n",
    "\n",
    "### Become an Expert\n",
    "\n",
    "If you are looking for a comprehensive path to help you become an expert at the python data science ecosystem, you might want to check out the following books I wrote.\n",
    "\n",
    "* [Exercise Python][3]\n",
    "* [Master Data Analysis with Python][4]\n",
    "* [Master Machine Learning with Python][5]\n",
    "\n",
    "### Take a live in-person class with me\n",
    "\n",
    "Learn directly with me by taking an interactive and fun [in-person bootcamp in Toronto, Houston, New York City, Boston, or Chicago in 2020][6].\n",
    "\n",
    "### Get started for free\n",
    "\n",
    "Sample my material by taking my [free Intro to Pandas class][7].\n",
    "\n",
    "[1]: twitter.com/tedpetrou\n",
    "[2]: linkedin.com/in/tedpetrou\n",
    "[3]: https://www.dunderdata.com/exercise-python\n",
    "[4]: https://www.dunderdata.com/master-data-analysis-with-python\n",
    "[5]: https://www.dunderdata.com/master-machine-learning-with-python\n",
    "[6]: https://www.dunderdata.com/all-in-person-courses\n",
    "[7]: https://www.dunderdata.com"
   ]
  },
  {
   "cell_type": "markdown",
   "metadata": {},
   "source": [
    "## Quiz #1 - January 28, 2020 - difficulty (2/4)\n",
    "\n",
    "Take a look at the following two function definitions.\n",
    "\n",
    "```python\n",
    "def func1():\n",
    "    return 5\n",
    "\n",
    "def func2():\n",
    "    return(5)\n",
    "```\n",
    "\n",
    "In `func1`, `return` is not a function, while in `func2` it is a function. True or False?\n",
    "\n",
    "### Solution - January 29, 2020\n",
    "\n",
    "**`False`** - `return` is not a function. It is always a **statement**. It is [detailed here in the official documentation][1]. Placing parentheses after it does not change what part of the language it is. See the [Python Language Reference][2] for more detail.\n",
    "\n",
    "#### The different meaning of parentheses\n",
    "\n",
    "Both `func1` and `func2` use the `return` statement to return the integer 5. In `func2`, the line `return(5)` is interpreted as `return` and then `(5)`. The parentheses here are the same parentheses that are used to control the order of execution. Take the expression `3 * (4 + 5)`. The parentheses mean \"do the operation `4 + 5` first. With the expression `(5)` there are no operations so it evaluates as `5` and `return(5)` becomes `return 5`.\n",
    "\n",
    "Parentheses have a completely different meaning when used to call a function. For instance, when we write `func1()`, the parentheses mean \"execute the code that the function `func1` references\". Most of the time, when you see parentheses appended to a word in Python, then that word is a function. But, in the case of `return`, this isn't so. `return` is not a function. It signals to Python to return the expression that immediately follows it. In this example, the expression is very simple, just `(5)`.\n",
    "\n",
    "[1]: https://docs.python.org/3/reference/simple_stmts.html#grammar-token-return-stmt\n",
    "[2]: https://docs.python.org/3/reference/index.html"
   ]
  },
  {
   "cell_type": "markdown",
   "metadata": {},
   "source": [
    "---\n",
    "\n",
    "## Quiz #2 - January 29, 2020 - difficulty (2/4)\n",
    "\n",
    "Take a look at the following function definition.\n",
    "\n",
    "```python\n",
    "def func():\n",
    "    return()\n",
    "```\n",
    "\n",
    "What is the result of executing `func()`?\n",
    "\n",
    "a) `None`  \n",
    "b) An error  \n",
    "c) Tuple  \n",
    "d) 0\n",
    "\n",
    "### Solution - January 30, 2020\n",
    "\n",
    "This function's single line, `return()`, is quite bizarre. It appears that `return` is a function and being called. From the previous quiz, we learned that `return` is never a function and python will interpret the line as `return` followed by `()`. So, what does `()` do? It creates an empty tuple, which is then returned from the function. We verify this below by defining the function, calling it, assigning the result to a variable, outputting this value, and obtaining it's type."
   ]
  },
  {
   "cell_type": "code",
   "execution_count": 2,
   "metadata": {},
   "outputs": [
    {
     "data": {
      "text/plain": [
       "()"
      ]
     },
     "execution_count": 2,
     "metadata": {},
     "output_type": "execute_result"
    }
   ],
   "source": [
    "def func():\n",
    "    return()\n",
    "a = func()\n",
    "a"
   ]
  },
  {
   "cell_type": "code",
   "execution_count": 3,
   "metadata": {},
   "outputs": [
    {
     "data": {
      "text/plain": [
       "tuple"
      ]
     },
     "execution_count": 3,
     "metadata": {},
     "output_type": "execute_result"
    }
   ],
   "source": [
    "type(a)"
   ]
  },
  {
   "cell_type": "markdown",
   "metadata": {},
   "source": [
    "## Quiz #3 - January 30, 2020 - difficulty (2/4)\n",
    "\n",
    "Given the following function definition, which function call is invalid?\n",
    "\n",
    "```python\n",
    "def func(a, b=5):\n",
    "    pass\n",
    "```\n",
    "\n",
    "a) `func(a=3, 10)`  \n",
    "b) `func(3, b=10)`  \n",
    "c) `func(3)`  \n",
    "d) `func(b=’adf’, a=10)`  \n",
    "\n",
    "### Solution - February 3, 2020\n",
    "\n",
    "In Python, you can provide arguments by either using the parameter name or by their position. It is called a **keyword** argument when using the parameter name and **positional** when using just their position. Keyword arguments may appear anywhere in the function call and their order does not matter. Positional arguments must appear in their precise position and cannot follow a keyword argument.\n",
    "\n",
    "In this quiz, we have two parameters, `a`, and `b`. They can be provided as either keyword or positional. Additionally, the `b` parameter has been given a default value of 5 and is not strictly necessary to provide.\n",
    "\n",
    "We can call the `func` function in multiple valid ways. \n",
    "\n",
    "* `func(4, 2)` - parameter `a` is assigned the value 4, and `b` is assigned to 2. Both are positional.\n",
    "* `func('asdf')` - parameter `a` is assigned the string 'asdf', while `b` is not explicitly given a value and therefore remains 5, the default value. Parameters may be assigned any value of any type in Python.\n",
    "* `func(a='asdf', b='asdf')` - both `a` and `b` are assigned the same string 'asdf' as keyword arguments.\n",
    "* `func('asdf', b=10)` - `a` is provided as positional, while `b` is a keyword.\n",
    "* `func(a=3, 10)` - this is illegal (answer 'a' from above) because a positional argument cannot follow a keyword argument.\n"
   ]
  },
  {
   "cell_type": "code",
   "execution_count": null,
   "metadata": {},
   "outputs": [],
   "source": []
  }
 ],
 "metadata": {
  "kernelspec": {
   "display_name": "Python 3",
   "language": "python",
   "name": "python3"
  },
  "language_info": {
   "codemirror_mode": {
    "name": "ipython",
    "version": 3
   },
   "file_extension": ".py",
   "mimetype": "text/x-python",
   "name": "python",
   "nbconvert_exporter": "python",
   "pygments_lexer": "ipython3",
   "version": "3.8.1"
  }
 },
 "nbformat": 4,
 "nbformat_minor": 4
}
