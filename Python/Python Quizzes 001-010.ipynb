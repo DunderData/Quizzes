{
 "cells": [
  {
   "cell_type": "markdown",
   "metadata": {},
   "source": [
    "# Python Quizzes 1-10\n",
    "\n",
    "Challenge your Python skills by taking the Python quizzes below. The quizzes will be tagged with **#PythonQuiz** on social media to help identify them.\n",
    "\n",
    "### Become an Expert\n",
    "\n",
    "If you are looking for a comprehensive path to help you become an expert at the python data science ecosystem, you might want to check out the following books I wrote.\n",
    "\n",
    "* [Exercise Python][3]\n",
    "* [Master Data Analysis with Python][4]\n",
    "* [Master Machine Learning with Python][5]\n",
    "\n",
    "### Take a live in-person class with me\n",
    "\n",
    "Learn directly with me by taking an interactive and fun [in-person bootcamp in Toronto, Houston, New York City, Boston, or Chicago in 2020][6].\n",
    "\n",
    "### Get started for free\n",
    "\n",
    "Sample my material by taking my [free Intro to Pandas class][7].\n",
    "\n",
    "[1]: twitter.com/tedpetrou\n",
    "[2]: linkedin.com/in/tedpetrou\n",
    "[3]: https://www.dunderdata.com/exercise-python\n",
    "[4]: https://www.dunderdata.com/master-data-analysis-with-python\n",
    "[5]: https://www.dunderdata.com/master-machine-learning-with-python\n",
    "[6]: https://www.dunderdata.com/all-in-person-courses\n",
    "[7]: https://www.dunderdata.com"
   ]
  },
  {
   "cell_type": "markdown",
   "metadata": {},
   "source": [
    "## Quiz #1 - January 28, 2020 - difficulty (2/4)\n",
    "\n",
    "Take a look at the following two function definitions.\n",
    "\n",
    "```python\n",
    "def func1():\n",
    "    return 5\n",
    "\n",
    "def func2():\n",
    "    return(5)\n",
    "```\n",
    "\n",
    "In `func1`, `return` is not a function, while in `func2` it is a function. True or False?\n",
    "\n",
    "---\n",
    "\n",
    "## Quiz #2 - January 29, 2020 - difficulty (2/4)\n",
    "\n",
    "Take a look at the following function definition.\n",
    "\n",
    "```python\n",
    "def func():\n",
    "    return()\n",
    "```\n",
    "\n",
    "What is the result of executing `func()`?\n",
    "\n",
    "a) `None`  \n",
    "b) An error  \n",
    "c) Tuple  \n",
    "d) 0"
   ]
  },
  {
   "cell_type": "markdown",
   "metadata": {},
   "source": [
    "---\n",
    "\n",
    "## Quiz #3 - January 30, 2020 - difficulty (2/4)\n",
    "\n",
    "Given the following function definition, which function call is invalid?\n",
    "\n",
    "```python\n",
    "def func(a, b=5):\n",
    "    pass\n",
    "```\n",
    "\n",
    "a) `func(a=3, 10)`  \n",
    "b) `func(3, b=10)`  \n",
    "c) `func(3)`  \n",
    "d) `func(b=’adf’, a=10)`  \n"
   ]
  },
  {
   "cell_type": "markdown",
   "metadata": {},
   "source": [
    "---\n",
    "\n",
    "## Quiz #4 - February 3, 2020 - difficulty (2/4)\n",
    "\n",
    "Is the range function a function?\n",
    "\n",
    "a) True  \n",
    "b) False\n"
   ]
  },
  {
   "cell_type": "code",
   "execution_count": null,
   "metadata": {},
   "outputs": [],
   "source": []
  }
 ],
 "metadata": {
  "kernelspec": {
   "display_name": "Python 3",
   "language": "python",
   "name": "python3"
  },
  "language_info": {
   "codemirror_mode": {
    "name": "ipython",
    "version": 3
   },
   "file_extension": ".py",
   "mimetype": "text/x-python",
   "name": "python",
   "nbconvert_exporter": "python",
   "pygments_lexer": "ipython3",
   "version": "3.8.1"
  }
 },
 "nbformat": 4,
 "nbformat_minor": 4
}
